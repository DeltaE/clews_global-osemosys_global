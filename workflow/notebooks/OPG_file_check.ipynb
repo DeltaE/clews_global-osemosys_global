{
 "cells": [
  {
   "cell_type": "code",
   "execution_count": null,
   "metadata": {},
   "outputs": [],
   "source": [
    "import pandas as pd\n",
    "import os"
   ]
  },
  {
   "cell_type": "code",
   "execution_count": null,
   "metadata": {},
   "outputs": [],
   "source": [
    "def create_csv_files(path):\n",
    "    csv_file_dict = {} \n",
    "    for each_csv in os.listdir(r'simplicity/data/'):  \n",
    "        if each_csv not in os.listdir(path):\n",
    "            csv_df_in = pd.read_csv(os.path.join(r'simplicity/data/',\n",
    "                                              each_csv))\n",
    "            csv_df_out = pd.DataFrame(columns = list(csv_df_in.columns))\n",
    "            csv_df_out.to_csv(os.path.join(path, \n",
    "                                           each_csv),\n",
    "                             index = None)\n",
    "            csv_file_dict[each_csv] = list(csv_df_in.columns)\n",
    "    \n",
    "    return csv_file_dict"
   ]
  },
  {
   "cell_type": "code",
   "execution_count": null,
   "metadata": {},
   "outputs": [],
   "source": [
    "create_csv_files(r'osemosys_global_model/data/')"
   ]
  },
  {
   "cell_type": "code",
   "execution_count": null,
   "metadata": {},
   "outputs": [],
   "source": []
  }
 ],
 "metadata": {
  "kernelspec": {
   "display_name": "Python 3",
   "language": "python",
   "name": "python3"
  },
  "language_info": {
   "codemirror_mode": {
    "name": "ipython",
    "version": 3
   },
   "file_extension": ".py",
   "mimetype": "text/x-python",
   "name": "python",
   "nbconvert_exporter": "python",
   "pygments_lexer": "ipython3",
   "version": "3.9.1"
  }
 },
 "nbformat": 4,
 "nbformat_minor": 2
}
