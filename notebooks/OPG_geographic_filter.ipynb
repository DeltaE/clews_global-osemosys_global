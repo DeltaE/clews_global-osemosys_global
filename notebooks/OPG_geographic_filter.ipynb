{
 "cells": [
  {
   "cell_type": "markdown",
   "metadata": {},
   "source": [
    "# Filter osemosys_global datapackaged based on user-defined geographic scope"
   ]
  },
  {
   "cell_type": "markdown",
   "metadata": {},
   "source": [
    "### Import modules"
   ]
  },
  {
   "cell_type": "code",
   "execution_count": null,
   "metadata": {},
   "outputs": [],
   "source": [
    "import pandas as pd\n",
    "import os"
   ]
  },
  {
   "cell_type": "code",
   "execution_count": null,
   "metadata": {},
   "outputs": [],
   "source": [
    "geographic_scope = ['IND', 'CHN']\n",
    "model_name = 'geo_filter_test_v4'\n",
    "\n",
    "if not os.path.exists(os.path.join(os.getcwd(),\n",
    "                           model_name,\n",
    "                           'data')):\n",
    "    os.makedirs(os.path.join(os.getcwd(),\n",
    "                           model_name,\n",
    "                           'data'))\n",
    "\n",
    "for each_csv in (os.listdir(os.path.join(os.getcwd(),\n",
    "                                         r'osemosys_global_model\\data'))):\n",
    "    \n",
    "    df = pd.read_csv(os.path.join(os.getcwd(),\n",
    "                                  r'osemosys_global_model\\data',\n",
    "                                  each_csv)\n",
    "                    )\n",
    "    if not df.empty:\n",
    "        if 'TECHNOLOGY' in df.columns:\n",
    "            df = df.loc[df['TECHNOLOGY'].str[3:6].isin(geographic_scope) | \n",
    "                        df['TECHNOLOGY'].str[6:9].isin(geographic_scope) | \n",
    "                        df['TECHNOLOGY'].str[8:11].isin(geographic_scope)]\n",
    "            \n",
    "        if 'FUEL' in df.columns:\n",
    "            df = df.loc[df['FUEL'].str[3:6].isin(geographic_scope) | \n",
    "                        df['FUEL'].str[6:9].isin(geographic_scope)]\n",
    "        \n",
    "        if each_csv == 'FUEL.csv':\n",
    "            df = df.loc[df['VALUE'].str[3:6].isin(geographic_scope) | \n",
    "                        df['VALUE'].str[6:9].isin(geographic_scope)]\n",
    "        \n",
    "        if each_csv == 'TECHNOLOGY.csv':\n",
    "            df = df.loc[df['VALUE'].str[3:6].isin(geographic_scope) | \n",
    "                        df['VALUE'].str[6:9].isin(geographic_scope) | \n",
    "                        df['VALUE'].str[8:11].isin(geographic_scope)]\n",
    "        \n",
    "    \n",
    "    df.to_csv(os.path.join(os.getcwd(),\n",
    "                           model_name,\n",
    "                           'data',\n",
    "                           each_csv),\n",
    "              index = None)"
   ]
  },
  {
   "cell_type": "code",
   "execution_count": null,
   "metadata": {},
   "outputs": [],
   "source": []
  }
 ],
 "metadata": {
  "kernelspec": {
   "display_name": "Python 3",
   "language": "python",
   "name": "python3"
  },
  "language_info": {
   "codemirror_mode": {
    "name": "ipython",
    "version": 3
   },
   "file_extension": ".py",
   "mimetype": "text/x-python",
   "name": "python",
   "nbconvert_exporter": "python",
   "pygments_lexer": "ipython3",
   "version": "3.9.1"
  }
 },
 "nbformat": 4,
 "nbformat_minor": 2
}
